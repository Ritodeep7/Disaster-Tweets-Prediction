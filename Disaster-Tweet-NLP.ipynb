{
 "cells": [
  {
   "cell_type": "code",
   "execution_count": 14,
   "metadata": {
    "execution": {
     "iopub.execute_input": "2021-09-23T13:19:11.780036Z",
     "iopub.status.busy": "2021-09-23T13:19:11.779725Z",
     "iopub.status.idle": "2021-09-23T13:19:11.786938Z",
     "shell.execute_reply": "2021-09-23T13:19:11.786034Z",
     "shell.execute_reply.started": "2021-09-23T13:19:11.780008Z"
    }
   },
   "outputs": [
    {
     "name": "stderr",
     "output_type": "stream",
     "text": [
      "[nltk_data] Downloading package punkt to\n",
      "[nltk_data]     C:\\Users\\ritod\\AppData\\Roaming\\nltk_data...\n",
      "[nltk_data]   Package punkt is already up-to-date!\n",
      "[nltk_data] Downloading package stopwords to\n",
      "[nltk_data]     C:\\Users\\ritod\\AppData\\Roaming\\nltk_data...\n",
      "[nltk_data]   Unzipping corpora\\stopwords.zip.\n"
     ]
    },
    {
     "data": {
      "text/plain": [
       "True"
      ]
     },
     "execution_count": 14,
     "metadata": {},
     "output_type": "execute_result"
    }
   ],
   "source": [
    "import numpy as np \n",
    "import pandas as pd \n",
    "import nltk\n",
    "import string\n",
    "import re\n",
    "from nltk.corpus import stopwords\n",
    "from nltk.tokenize import word_tokenize\n",
    "from nltk.stem import WordNetLemmatizer\n",
    "from sklearn.feature_extraction.text import TfidfVectorizer\n",
    "from sklearn.linear_model import LogisticRegression \n",
    "from sklearn.model_selection import train_test_split\n",
    "from sklearn.feature_extraction.text import TfidfTransformer\n",
    "from sklearn.ensemble import RandomForestClassifier\n",
    "from sklearn.feature_extraction.text import CountVectorizer\n",
    "from sklearn.linear_model import SGDClassifier\n",
    "nltk.download('punkt')\n",
    "nltk.download('stopwords')"
   ]
  },
  {
   "cell_type": "code",
   "execution_count": 7,
   "metadata": {
    "execution": {
     "iopub.execute_input": "2021-09-23T13:17:10.303932Z",
     "iopub.status.busy": "2021-09-23T13:17:10.303405Z",
     "iopub.status.idle": "2021-09-23T13:17:10.375622Z",
     "shell.execute_reply": "2021-09-23T13:17:10.374827Z",
     "shell.execute_reply.started": "2021-09-23T13:17:10.303891Z"
    }
   },
   "outputs": [],
   "source": [
    "train = pd.read_csv(r'C:\\Users\\ritod\\OneDrive\\Desktop\\Kaam\\ML\\Disaster-Tweets-Prediction\\Datasets\\train.csv',encoding='latin-1')\n",
    "test = pd.read_csv(r'C:\\Users\\ritod\\OneDrive\\Desktop\\Kaam\\ML\\Disaster-Tweets-Prediction\\Datasets\\test.csv',encoding='latin-1')"
   ]
  },
  {
   "cell_type": "code",
   "execution_count": 8,
   "metadata": {
    "execution": {
     "iopub.execute_input": "2021-09-23T13:17:10.377172Z",
     "iopub.status.busy": "2021-09-23T13:17:10.376876Z",
     "iopub.status.idle": "2021-09-23T13:17:10.402671Z",
     "shell.execute_reply": "2021-09-23T13:17:10.401844Z",
     "shell.execute_reply.started": "2021-09-23T13:17:10.377133Z"
    }
   },
   "outputs": [
    {
     "data": {
      "text/html": [
       "<div>\n",
       "<style scoped>\n",
       "    .dataframe tbody tr th:only-of-type {\n",
       "        vertical-align: middle;\n",
       "    }\n",
       "\n",
       "    .dataframe tbody tr th {\n",
       "        vertical-align: top;\n",
       "    }\n",
       "\n",
       "    .dataframe thead th {\n",
       "        text-align: right;\n",
       "    }\n",
       "</style>\n",
       "<table border=\"1\" class=\"dataframe\">\n",
       "  <thead>\n",
       "    <tr style=\"text-align: right;\">\n",
       "      <th></th>\n",
       "      <th>id</th>\n",
       "      <th>keyword</th>\n",
       "      <th>location</th>\n",
       "      <th>text</th>\n",
       "      <th>target</th>\n",
       "    </tr>\n",
       "  </thead>\n",
       "  <tbody>\n",
       "    <tr>\n",
       "      <th>0</th>\n",
       "      <td>1</td>\n",
       "      <td>NaN</td>\n",
       "      <td>NaN</td>\n",
       "      <td>Our Deeds are the Reason of this #earthquake M...</td>\n",
       "      <td>1</td>\n",
       "    </tr>\n",
       "    <tr>\n",
       "      <th>1</th>\n",
       "      <td>4</td>\n",
       "      <td>NaN</td>\n",
       "      <td>NaN</td>\n",
       "      <td>Forest fire near La Ronge Sask. Canada</td>\n",
       "      <td>1</td>\n",
       "    </tr>\n",
       "    <tr>\n",
       "      <th>2</th>\n",
       "      <td>5</td>\n",
       "      <td>NaN</td>\n",
       "      <td>NaN</td>\n",
       "      <td>All residents asked to 'shelter in place' are ...</td>\n",
       "      <td>1</td>\n",
       "    </tr>\n",
       "    <tr>\n",
       "      <th>3</th>\n",
       "      <td>6</td>\n",
       "      <td>NaN</td>\n",
       "      <td>NaN</td>\n",
       "      <td>13,000 people receive #wildfires evacuation or...</td>\n",
       "      <td>1</td>\n",
       "    </tr>\n",
       "    <tr>\n",
       "      <th>4</th>\n",
       "      <td>7</td>\n",
       "      <td>NaN</td>\n",
       "      <td>NaN</td>\n",
       "      <td>Just got sent this photo from Ruby #Alaska as ...</td>\n",
       "      <td>1</td>\n",
       "    </tr>\n",
       "    <tr>\n",
       "      <th>...</th>\n",
       "      <td>...</td>\n",
       "      <td>...</td>\n",
       "      <td>...</td>\n",
       "      <td>...</td>\n",
       "      <td>...</td>\n",
       "    </tr>\n",
       "    <tr>\n",
       "      <th>7608</th>\n",
       "      <td>10869</td>\n",
       "      <td>NaN</td>\n",
       "      <td>NaN</td>\n",
       "      <td>Two giant cranes holding a bridge collapse int...</td>\n",
       "      <td>1</td>\n",
       "    </tr>\n",
       "    <tr>\n",
       "      <th>7609</th>\n",
       "      <td>10870</td>\n",
       "      <td>NaN</td>\n",
       "      <td>NaN</td>\n",
       "      <td>@aria_ahrary @TheTawniest The out of control w...</td>\n",
       "      <td>1</td>\n",
       "    </tr>\n",
       "    <tr>\n",
       "      <th>7610</th>\n",
       "      <td>10871</td>\n",
       "      <td>NaN</td>\n",
       "      <td>NaN</td>\n",
       "      <td>M1.94 [01:04 UTC]?5km S of Volcano Hawaii. htt...</td>\n",
       "      <td>1</td>\n",
       "    </tr>\n",
       "    <tr>\n",
       "      <th>7611</th>\n",
       "      <td>10872</td>\n",
       "      <td>NaN</td>\n",
       "      <td>NaN</td>\n",
       "      <td>Police investigating after an e-bike collided ...</td>\n",
       "      <td>1</td>\n",
       "    </tr>\n",
       "    <tr>\n",
       "      <th>7612</th>\n",
       "      <td>10873</td>\n",
       "      <td>NaN</td>\n",
       "      <td>NaN</td>\n",
       "      <td>The Latest: More Homes Razed by Northern Calif...</td>\n",
       "      <td>1</td>\n",
       "    </tr>\n",
       "  </tbody>\n",
       "</table>\n",
       "<p>7613 rows × 5 columns</p>\n",
       "</div>"
      ],
      "text/plain": [
       "         id keyword location  \\\n",
       "0         1     NaN      NaN   \n",
       "1         4     NaN      NaN   \n",
       "2         5     NaN      NaN   \n",
       "3         6     NaN      NaN   \n",
       "4         7     NaN      NaN   \n",
       "...     ...     ...      ...   \n",
       "7608  10869     NaN      NaN   \n",
       "7609  10870     NaN      NaN   \n",
       "7610  10871     NaN      NaN   \n",
       "7611  10872     NaN      NaN   \n",
       "7612  10873     NaN      NaN   \n",
       "\n",
       "                                                   text  target  \n",
       "0     Our Deeds are the Reason of this #earthquake M...       1  \n",
       "1                Forest fire near La Ronge Sask. Canada       1  \n",
       "2     All residents asked to 'shelter in place' are ...       1  \n",
       "3     13,000 people receive #wildfires evacuation or...       1  \n",
       "4     Just got sent this photo from Ruby #Alaska as ...       1  \n",
       "...                                                 ...     ...  \n",
       "7608  Two giant cranes holding a bridge collapse int...       1  \n",
       "7609  @aria_ahrary @TheTawniest The out of control w...       1  \n",
       "7610  M1.94 [01:04 UTC]?5km S of Volcano Hawaii. htt...       1  \n",
       "7611  Police investigating after an e-bike collided ...       1  \n",
       "7612  The Latest: More Homes Razed by Northern Calif...       1  \n",
       "\n",
       "[7613 rows x 5 columns]"
      ]
     },
     "execution_count": 8,
     "metadata": {},
     "output_type": "execute_result"
    }
   ],
   "source": [
    "train"
   ]
  },
  {
   "cell_type": "code",
   "execution_count": 9,
   "metadata": {
    "execution": {
     "iopub.execute_input": "2021-09-23T13:17:10.405409Z",
     "iopub.status.busy": "2021-09-23T13:17:10.404955Z",
     "iopub.status.idle": "2021-09-23T13:17:10.415983Z",
     "shell.execute_reply": "2021-09-23T13:17:10.415263Z",
     "shell.execute_reply.started": "2021-09-23T13:17:10.405369Z"
    }
   },
   "outputs": [],
   "source": [
    "train=train.drop(['keyword','location'],axis=1)\n",
    "y=train.pop('target')"
   ]
  },
  {
   "cell_type": "code",
   "execution_count": 10,
   "metadata": {
    "execution": {
     "iopub.execute_input": "2021-09-23T13:17:10.417730Z",
     "iopub.status.busy": "2021-09-23T13:17:10.417379Z",
     "iopub.status.idle": "2021-09-23T13:17:10.428619Z",
     "shell.execute_reply": "2021-09-23T13:17:10.427951Z",
     "shell.execute_reply.started": "2021-09-23T13:17:10.417691Z"
    }
   },
   "outputs": [],
   "source": [
    "def preprocessing(text):\n",
    "    text = ' '.join(re.sub(\"(@[A-Za-z0-9]+)|([^0-9A-Za-z \\t])|(\\w+:\\/\\/\\S+)\",\" \",text).split())\n",
    "    text=text.lower()\n",
    "    text = re.sub(r'\\d+', '', text)\n",
    "    translator = str.maketrans('', '', string.punctuation)\n",
    "    text = text.translate(translator)\n",
    "    text = word_tokenize(text)\n",
    "    stop_words = set(stopwords.words('english'))\n",
    "    def remove_stopwords(text):\n",
    "        text = [i for i in text if not i in stop_words]\n",
    "    lemmatizer = WordNetLemmatizer()\n",
    "    def lemmatize(text):\n",
    "        text = [lemmatizer.lemmatize(token) for token in text]\n",
    "    text = ' '.join(text)\n",
    "    return text"
   ]
  },
  {
   "cell_type": "code",
   "execution_count": 15,
   "metadata": {
    "execution": {
     "iopub.execute_input": "2021-09-23T13:17:10.430174Z",
     "iopub.status.busy": "2021-09-23T13:17:10.429540Z",
     "iopub.status.idle": "2021-09-23T13:17:14.963750Z",
     "shell.execute_reply": "2021-09-23T13:17:14.962969Z",
     "shell.execute_reply.started": "2021-09-23T13:17:10.430142Z"
    }
   },
   "outputs": [],
   "source": [
    "text_train = []\n",
    "for text_data in train['text']:\n",
    "    text_data = preprocessing(text_data)\n",
    "    text_train.append(text_data)\n",
    "train['new_train'] = text_train\n",
    "pre_test = []\n",
    "for text_dat in test['text']:\n",
    "    text_dat = preprocessing(text_dat)\n",
    "    pre_test.append(text_dat)\n",
    "test['new_test'] = pre_test"
   ]
  },
  {
   "cell_type": "code",
   "execution_count": 16,
   "metadata": {
    "execution": {
     "iopub.execute_input": "2021-09-23T13:17:55.153459Z",
     "iopub.status.busy": "2021-09-23T13:17:55.153090Z",
     "iopub.status.idle": "2021-09-23T13:17:55.161741Z",
     "shell.execute_reply": "2021-09-23T13:17:55.160994Z",
     "shell.execute_reply.started": "2021-09-23T13:17:55.153420Z"
    }
   },
   "outputs": [],
   "source": [
    "train_text_data = list(train['new_train'])\n",
    "test_text_data = list(test['new_test'])\n",
    "corpus = train_text_data + test_text_data"
   ]
  },
  {
   "cell_type": "code",
   "execution_count": 17,
   "metadata": {
    "execution": {
     "iopub.execute_input": "2021-09-23T13:19:16.042041Z",
     "iopub.status.busy": "2021-09-23T13:19:16.041627Z",
     "iopub.status.idle": "2021-09-23T13:19:16.312081Z",
     "shell.execute_reply": "2021-09-23T13:19:16.311259Z",
     "shell.execute_reply.started": "2021-09-23T13:19:16.041999Z"
    }
   },
   "outputs": [],
   "source": [
    "tf=TfidfVectorizer()\n",
    "fitted_vectorizer = tf.fit(corpus)"
   ]
  },
  {
   "cell_type": "code",
   "execution_count": 18,
   "metadata": {
    "execution": {
     "iopub.execute_input": "2021-09-23T13:20:51.601916Z",
     "iopub.status.busy": "2021-09-23T13:20:51.601282Z",
     "iopub.status.idle": "2021-09-23T13:20:51.831340Z",
     "shell.execute_reply": "2021-09-23T13:20:51.830578Z",
     "shell.execute_reply.started": "2021-09-23T13:20:51.601870Z"
    }
   },
   "outputs": [],
   "source": [
    "train_transform = fitted_vectorizer.transform(train['new_train'])\n",
    "test_transform = fitted_vectorizer.transform(test['new_test'])"
   ]
  },
  {
   "cell_type": "code",
   "execution_count": 19,
   "metadata": {
    "execution": {
     "iopub.execute_input": "2021-09-23T13:21:43.197454Z",
     "iopub.status.busy": "2021-09-23T13:21:43.196707Z",
     "iopub.status.idle": "2021-09-23T13:21:43.404049Z",
     "shell.execute_reply": "2021-09-23T13:21:43.403122Z",
     "shell.execute_reply.started": "2021-09-23T13:21:43.197412Z"
    }
   },
   "outputs": [],
   "source": [
    "X_train, X_test, y_train, y_test = train_test_split(train_transform, y)\n",
    "log_reg = LogisticRegression()\n",
    "model=log_reg.fit(X_train, y_train)"
   ]
  },
  {
   "cell_type": "code",
   "execution_count": 20,
   "metadata": {
    "execution": {
     "iopub.execute_input": "2021-09-23T13:23:20.530458Z",
     "iopub.status.busy": "2021-09-23T13:23:20.529803Z",
     "iopub.status.idle": "2021-09-23T13:23:20.534614Z",
     "shell.execute_reply": "2021-09-23T13:23:20.533862Z",
     "shell.execute_reply.started": "2021-09-23T13:23:20.530416Z"
    }
   },
   "outputs": [],
   "source": [
    "y_pred = model.predict(X_test)"
   ]
  },
  {
   "cell_type": "code",
   "execution_count": 21,
   "metadata": {
    "execution": {
     "iopub.execute_input": "2021-09-23T13:23:31.940231Z",
     "iopub.status.busy": "2021-09-23T13:23:31.939936Z",
     "iopub.status.idle": "2021-09-23T13:23:31.948136Z",
     "shell.execute_reply": "2021-09-23T13:23:31.947245Z",
     "shell.execute_reply.started": "2021-09-23T13:23:31.940204Z"
    }
   },
   "outputs": [
    {
     "data": {
      "text/plain": [
       "0.7988445378151261"
      ]
     },
     "execution_count": 21,
     "metadata": {},
     "output_type": "execute_result"
    }
   ],
   "source": [
    "from sklearn.metrics import accuracy_score\n",
    "accuracy_score(y_test, y_pred)"
   ]
  },
  {
   "cell_type": "code",
   "execution_count": 22,
   "metadata": {
    "execution": {
     "iopub.execute_input": "2021-09-23T13:24:58.403201Z",
     "iopub.status.busy": "2021-09-23T13:24:58.402896Z",
     "iopub.status.idle": "2021-09-23T13:25:39.855134Z",
     "shell.execute_reply": "2021-09-23T13:25:39.854207Z",
     "shell.execute_reply.started": "2021-09-23T13:24:58.403171Z"
    }
   },
   "outputs": [],
   "source": [
    "random_clf = RandomForestClassifier(n_estimators=250)\n",
    "model2=random_clf.fit(X_train, y_train)"
   ]
  },
  {
   "cell_type": "code",
   "execution_count": 23,
   "metadata": {
    "execution": {
     "iopub.execute_input": "2021-09-23T13:26:37.892405Z",
     "iopub.status.busy": "2021-09-23T13:26:37.891980Z",
     "iopub.status.idle": "2021-09-23T13:26:38.279465Z",
     "shell.execute_reply": "2021-09-23T13:26:38.278647Z",
     "shell.execute_reply.started": "2021-09-23T13:26:37.892362Z"
    }
   },
   "outputs": [
    {
     "data": {
      "text/plain": [
       "0.7820378151260504"
      ]
     },
     "execution_count": 23,
     "metadata": {},
     "output_type": "execute_result"
    }
   ],
   "source": [
    "y_pred2 = model2.predict(X_test)\n",
    "accuracy_score(y_test, y_pred2)"
   ]
  },
  {
   "cell_type": "code",
   "execution_count": 24,
   "metadata": {},
   "outputs": [
    {
     "data": {
      "text/plain": [
       "0.7941176470588235"
      ]
     },
     "execution_count": 24,
     "metadata": {},
     "output_type": "execute_result"
    }
   ],
   "source": [
    "from sklearn import svm\n",
    "svc_clf = svm.SVC()\n",
    "model3=svc_clf.fit(X_train, y_train)\n",
    "y_pred3 = model3.predict(X_test)\n",
    "accuracy_score(y_test, y_pred3)"
   ]
  }
 ],
 "metadata": {
  "kernelspec": {
   "display_name": "Python 3",
   "language": "python",
   "name": "python3"
  },
  "language_info": {
   "codemirror_mode": {
    "name": "ipython",
    "version": 3
   },
   "file_extension": ".py",
   "mimetype": "text/x-python",
   "name": "python",
   "nbconvert_exporter": "python",
   "pygments_lexer": "ipython3",
   "version": "3.8.8"
  }
 },
 "nbformat": 4,
 "nbformat_minor": 4
}
